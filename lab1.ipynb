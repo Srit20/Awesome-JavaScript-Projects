{
  "nbformat": 4,
  "nbformat_minor": 0,
  "metadata": {
    "colab": {
      "name": "lab1.ipynb",
      "provenance": [],
      "collapsed_sections": [],
      "authorship_tag": "ABX9TyOI1uVigDFNbjhFspIw119J",
      "include_colab_link": true
    },
    "kernelspec": {
      "name": "python3",
      "display_name": "Python 3"
    },
    "language_info": {
      "name": "python"
    }
  },
  "cells": [
    {
      "cell_type": "markdown",
      "metadata": {
        "id": "view-in-github",
        "colab_type": "text"
      },
      "source": [
        "<a href=\"https://colab.research.google.com/github/Srit20/Awesome-JavaScript-Projects/blob/main/lab1.ipynb\" target=\"_parent\"><img src=\"https://colab.research.google.com/assets/colab-badge.svg\" alt=\"Open In Colab\"/></a>"
      ]
    },
    {
      "cell_type": "code",
      "metadata": {
        "colab": {
          "base_uri": "https://localhost:8080/"
        },
        "id": "E0qv-cqHMs8D",
        "outputId": "6cd22b2e-55af-40c2-d787-671971668bb6"
      },
      "source": [
        "\"\"\"write the python code for following statistical operations with and without library function:\n",
        "mean\n",
        "median\n",
        "mode \n",
        "standard deviation and variance.\"\"\"\n",
        "num=[1,3,6,8,5]\n",
        "n=len(num)\n",
        "total=sum(num)\n",
        "mean=total/n\n",
        "print(\"Mean is : \" +str(mean))"
      ],
      "execution_count": 3,
      "outputs": [
        {
          "output_type": "stream",
          "name": "stdout",
          "text": [
            "Mean is :4.6\n"
          ]
        }
      ]
    },
    {
      "cell_type": "code",
      "metadata": {
        "colab": {
          "base_uri": "https://localhost:8080/"
        },
        "id": "pJbkezhiO90A",
        "outputId": "2d3dad9f-18a6-462f-ec0b-ce8df3753837"
      },
      "source": [
        "num=[1,3,6,8,5]\n",
        "n=len(num)\n",
        "num.sort()\n",
        "if n % 2 == 0:\n",
        "  median1=num[n//2]\n",
        "  median2=num[n//2-1]\n",
        "  median=(median1 + median2)/2\n",
        "else:\n",
        "  median=num[n//2]\n",
        "print(\"medain is : \" +str(median))\n",
        "\n"
      ],
      "execution_count": 4,
      "outputs": [
        {
          "output_type": "stream",
          "name": "stdout",
          "text": [
            "medain is : 5\n"
          ]
        }
      ]
    },
    {
      "cell_type": "code",
      "metadata": {
        "colab": {
          "base_uri": "https://localhost:8080/"
        },
        "id": "C5Mb2GnKQXZd",
        "outputId": "d567b0eb-fadb-4f2f-ce74-fdaa47de606c"
      },
      "source": [
        "from collections import Counter\n",
        "num=[1,3,6,8,6] \n",
        "n=len(num)\n",
        "data=Counter(num)\n",
        "get_mode = dict(data)\n",
        "mode = [k for k, v in get_mode.items() if v == max(list(data.values()))]\n",
        "if len(mode) == n:\n",
        "    get_mode = \"No mode found\"\n",
        "else:\n",
        "    get_mode = \"Mode is : \" + ', '.join(map(str, mode))\n",
        "      \n",
        "print(get_mode)\n",
        "\n"
      ],
      "execution_count": 7,
      "outputs": [
        {
          "output_type": "stream",
          "name": "stdout",
          "text": [
            "Mode is : 6\n"
          ]
        }
      ]
    },
    {
      "cell_type": "code",
      "metadata": {
        "colab": {
          "base_uri": "https://localhost:8080/"
        },
        "id": "W-JXe5ieTeGM",
        "outputId": "c03233ef-1bb2-41ed-d1d0-81d815da6a44"
      },
      "source": [
        " import statistics\n",
        " statistics.mean([1,3,6,8,5])\n",
        " print(mean)\n",
        " statistics.median([1,3,6,8,5])\n",
        " print(median)\n",
        " statistics.mode([1,3,6,8,6])\n",
        " print(mode)\n"
      ],
      "execution_count": 13,
      "outputs": [
        {
          "output_type": "stream",
          "name": "stdout",
          "text": [
            "4.6\n",
            "5\n",
            "[6]\n"
          ]
        }
      ]
    },
    {
      "cell_type": "code",
      "metadata": {
        "colab": {
          "base_uri": "https://localhost:8080/"
        },
        "id": "ye8iMXDKVlPl",
        "outputId": "22818838-9c5a-43c5-d505-22782bab8905"
      },
      "source": [
        "import numpy\n",
        "num=([1,3,6,8,5])\n",
        "mean=numpy.mean(num)\n",
        "median=numpy.median(num)\n",
        "#mode=numpy.mode(num)\n",
        "standard_deviation=numpy.std(num)\n",
        "variance=numpy.var(num)\n",
        "print(mean,median,mode,standard_deviation,variance)\n",
        "\n"
      ],
      "execution_count": 15,
      "outputs": [
        {
          "output_type": "stream",
          "name": "stdout",
          "text": [
            "4.6 5.0 [6] 2.4166091947189146 5.84\n"
          ]
        }
      ]
    },
    {
      "cell_type": "code",
      "metadata": {
        "colab": {
          "base_uri": "https://localhost:8080/"
        },
        "id": "6v_SLv-ta7Fx",
        "outputId": "eedf0f86-256e-4158-e64e-5e26c5fdb167"
      },
      "source": [
        "test_list = [4, 5, 8, 9, 10]\n",
        "mean = sum(test_list) / len(test_list)\n",
        "variance = sum([((x - mean) ** 2) for x in test_list]) / len(test_list)\n",
        "res = variance ** 0.5\n",
        "print (\"Variance is : \" + str(variance))\n",
        "print(\"Standard deviation is : \" + str(res))\n"
      ],
      "execution_count": 17,
      "outputs": [
        {
          "output_type": "stream",
          "name": "stdout",
          "text": [
            "Variance is : 5.36\n",
            "Standard deviation is : 2.3151673805580453\n"
          ]
        }
      ]
    }
  ]
}